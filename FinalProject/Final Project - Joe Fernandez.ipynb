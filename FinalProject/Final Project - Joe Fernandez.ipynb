{
 "cells": [
  {
   "cell_type": "markdown",
   "metadata": {},
   "source": [
    "Final Project - The Big Mac Index"
   ]
  },
  {
   "cell_type": "markdown",
   "metadata": {},
   "source": [
    "Description:\n",
    "The Big Mac Index (BMI) is a widely known gauge for comparing the consumer purchasing power between countries. The purpose of this project is to examine the correlation between the BMI and the Consumer Price Index (CPI)."
   ]
  },
  {
   "cell_type": "markdown",
   "metadata": {},
   "source": [
    "Null Hypothesis: There is no correlation between BMI and CPI\n",
    "Alternative Hypothesis: There is some correlation between BMI and CPI"
   ]
  },
  {
   "cell_type": "markdown",
   "metadata": {},
   "source": [
    "Data Sets:"
   ]
  },
  {
   "cell_type": "code",
   "execution_count": 1,
   "metadata": {
    "collapsed": true
   },
   "outputs": [],
   "source": [
    "import pandas as pd\n",
    "import numpy as np\n",
    "from sklearn.linear_model import LinearRegression\n",
    "from sklearn.model_selection import train_test_split\n",
    "from sklearn import metrics\n",
    "import statsmodels.formula.api as smf\n",
    "import seaborn as sns\n",
    "import matplotlib.pyplot as plt\n",
    "%matplotlib inline"
   ]
  },
  {
   "cell_type": "code",
   "execution_count": 2,
   "metadata": {},
   "outputs": [
    {
     "data": {
      "text/html": [
       "<div>\n",
       "<style>\n",
       "    .dataframe thead tr:only-child th {\n",
       "        text-align: right;\n",
       "    }\n",
       "\n",
       "    .dataframe thead th {\n",
       "        text-align: left;\n",
       "    }\n",
       "\n",
       "    .dataframe tbody tr th {\n",
       "        vertical-align: top;\n",
       "    }\n",
       "</style>\n",
       "<table border=\"1\" class=\"dataframe\">\n",
       "  <thead>\n",
       "    <tr style=\"text-align: right;\">\n",
       "      <th></th>\n",
       "      <th>Country</th>\n",
       "      <th>Date</th>\n",
       "      <th>Local price</th>\n",
       "      <th>Dollar ex</th>\n",
       "      <th>Dollar price</th>\n",
       "      <th>Dollar PPP</th>\n",
       "      <th>Dollar valuation</th>\n",
       "    </tr>\n",
       "  </thead>\n",
       "  <tbody>\n",
       "    <tr>\n",
       "      <th>0</th>\n",
       "      <td>Argentina</td>\n",
       "      <td>1/4/2000</td>\n",
       "      <td>2.50</td>\n",
       "      <td>1.00</td>\n",
       "      <td>2.50</td>\n",
       "      <td>0.996016</td>\n",
       "      <td>-0.398406</td>\n",
       "    </tr>\n",
       "    <tr>\n",
       "      <th>1</th>\n",
       "      <td>Argentina</td>\n",
       "      <td>1/4/2001</td>\n",
       "      <td>2.50</td>\n",
       "      <td>1.00</td>\n",
       "      <td>2.50</td>\n",
       "      <td>0.984252</td>\n",
       "      <td>-1.574803</td>\n",
       "    </tr>\n",
       "    <tr>\n",
       "      <th>2</th>\n",
       "      <td>Argentina</td>\n",
       "      <td>1/4/2002</td>\n",
       "      <td>2.50</td>\n",
       "      <td>3.13</td>\n",
       "      <td>0.78</td>\n",
       "      <td>1.004016</td>\n",
       "      <td>-67.922809</td>\n",
       "    </tr>\n",
       "    <tr>\n",
       "      <th>3</th>\n",
       "      <td>Argentina</td>\n",
       "      <td>1/4/2003</td>\n",
       "      <td>4.10</td>\n",
       "      <td>2.88</td>\n",
       "      <td>1.40</td>\n",
       "      <td>1.512915</td>\n",
       "      <td>-47.468225</td>\n",
       "    </tr>\n",
       "    <tr>\n",
       "      <th>4</th>\n",
       "      <td>Argentina</td>\n",
       "      <td>1/5/2004</td>\n",
       "      <td>4.36</td>\n",
       "      <td>2.95</td>\n",
       "      <td>1.48</td>\n",
       "      <td>1.503448</td>\n",
       "      <td>-49.035652</td>\n",
       "    </tr>\n",
       "  </tbody>\n",
       "</table>\n",
       "</div>"
      ],
      "text/plain": [
       "     Country      Date  Local price  Dollar ex  Dollar price  Dollar PPP  \\\n",
       "0  Argentina  1/4/2000         2.50       1.00          2.50    0.996016   \n",
       "1  Argentina  1/4/2001         2.50       1.00          2.50    0.984252   \n",
       "2  Argentina  1/4/2002         2.50       3.13          0.78    1.004016   \n",
       "3  Argentina  1/4/2003         4.10       2.88          1.40    1.512915   \n",
       "4  Argentina  1/5/2004         4.36       2.95          1.48    1.503448   \n",
       "\n",
       "   Dollar valuation  \n",
       "0         -0.398406  \n",
       "1         -1.574803  \n",
       "2        -67.922809  \n",
       "3        -47.468225  \n",
       "4        -49.035652  "
      ]
     },
     "execution_count": 2,
     "metadata": {},
     "output_type": "execute_result"
    }
   ],
   "source": [
    "BMI_raw = pd.read_csv(\"data/big-mac-index.csv\")\n",
    "BMI_raw.head()"
   ]
  },
  {
   "cell_type": "markdown",
   "metadata": {},
   "source": [
    "Big Mac Index Data from 2010 to 2016\n",
    "(Source: The Economist via (https://github.com/zelima/big-mac-index/blob/master/data/big-mac-index.csv)"
   ]
  },
  {
   "cell_type": "code",
   "execution_count": 3,
   "metadata": {},
   "outputs": [
    {
     "data": {
      "text/html": [
       "<div>\n",
       "<style>\n",
       "    .dataframe thead tr:only-child th {\n",
       "        text-align: right;\n",
       "    }\n",
       "\n",
       "    .dataframe thead th {\n",
       "        text-align: left;\n",
       "    }\n",
       "\n",
       "    .dataframe tbody tr th {\n",
       "        vertical-align: top;\n",
       "    }\n",
       "</style>\n",
       "<table border=\"1\" class=\"dataframe\">\n",
       "  <thead>\n",
       "    <tr style=\"text-align: right;\">\n",
       "      <th></th>\n",
       "      <th>Country</th>\n",
       "      <th>Year</th>\n",
       "      <th>CPI (2010)</th>\n",
       "    </tr>\n",
       "  </thead>\n",
       "  <tbody>\n",
       "    <tr>\n",
       "      <th>0</th>\n",
       "      <td>Aruba</td>\n",
       "      <td>2010</td>\n",
       "      <td>100.000000</td>\n",
       "    </tr>\n",
       "    <tr>\n",
       "      <th>1</th>\n",
       "      <td>Aruba</td>\n",
       "      <td>2011</td>\n",
       "      <td>104.374596</td>\n",
       "    </tr>\n",
       "    <tr>\n",
       "      <th>2</th>\n",
       "      <td>Aruba</td>\n",
       "      <td>2012</td>\n",
       "      <td>104.971363</td>\n",
       "    </tr>\n",
       "    <tr>\n",
       "      <th>3</th>\n",
       "      <td>Aruba</td>\n",
       "      <td>2013</td>\n",
       "      <td>102.481166</td>\n",
       "    </tr>\n",
       "    <tr>\n",
       "      <th>4</th>\n",
       "      <td>Aruba</td>\n",
       "      <td>2014</td>\n",
       "      <td>102.912610</td>\n",
       "    </tr>\n",
       "  </tbody>\n",
       "</table>\n",
       "</div>"
      ],
      "text/plain": [
       "  Country  Year  CPI (2010)\n",
       "0   Aruba  2010  100.000000\n",
       "1   Aruba  2011  104.374596\n",
       "2   Aruba  2012  104.971363\n",
       "3   Aruba  2013  102.481166\n",
       "4   Aruba  2014  102.912610"
      ]
     },
     "execution_count": 3,
     "metadata": {},
     "output_type": "execute_result"
    }
   ],
   "source": [
    "CPI = pd.read_csv(\"data/WHO CPI Data.csv\")\n",
    "CPI.head()"
   ]
  },
  {
   "cell_type": "markdown",
   "metadata": {},
   "source": [
    "Consumer Price Index Data (2010 = 100) from 2010 to 2016\n",
    "(Source: http://data.worldbank.org/indicator/FP.CPI.TOTL)"
   ]
  },
  {
   "cell_type": "markdown",
   "metadata": {},
   "source": [
    "Exploratory Data Analysis:"
   ]
  },
  {
   "cell_type": "markdown",
   "metadata": {},
   "source": [
    "The data requires merging to based on country and year"
   ]
  },
  {
   "cell_type": "code",
   "execution_count": 4,
   "metadata": {},
   "outputs": [
    {
     "data": {
      "text/html": [
       "<div>\n",
       "<style>\n",
       "    .dataframe thead tr:only-child th {\n",
       "        text-align: right;\n",
       "    }\n",
       "\n",
       "    .dataframe thead th {\n",
       "        text-align: left;\n",
       "    }\n",
       "\n",
       "    .dataframe tbody tr th {\n",
       "        vertical-align: top;\n",
       "    }\n",
       "</style>\n",
       "<table border=\"1\" class=\"dataframe\">\n",
       "  <thead>\n",
       "    <tr style=\"text-align: right;\">\n",
       "      <th></th>\n",
       "      <th>Country</th>\n",
       "      <th>Date</th>\n",
       "      <th>Local price</th>\n",
       "      <th>Dollar ex</th>\n",
       "      <th>Dollar price</th>\n",
       "      <th>Dollar PPP</th>\n",
       "      <th>Dollar valuation</th>\n",
       "      <th>Year</th>\n",
       "    </tr>\n",
       "  </thead>\n",
       "  <tbody>\n",
       "    <tr>\n",
       "      <th>0</th>\n",
       "      <td>Argentina</td>\n",
       "      <td>2000-04-01</td>\n",
       "      <td>2.50</td>\n",
       "      <td>1.00</td>\n",
       "      <td>2.50</td>\n",
       "      <td>0.996016</td>\n",
       "      <td>-0.398406</td>\n",
       "      <td>2000</td>\n",
       "    </tr>\n",
       "    <tr>\n",
       "      <th>1</th>\n",
       "      <td>Argentina</td>\n",
       "      <td>2001-04-01</td>\n",
       "      <td>2.50</td>\n",
       "      <td>1.00</td>\n",
       "      <td>2.50</td>\n",
       "      <td>0.984252</td>\n",
       "      <td>-1.574803</td>\n",
       "      <td>2001</td>\n",
       "    </tr>\n",
       "    <tr>\n",
       "      <th>2</th>\n",
       "      <td>Argentina</td>\n",
       "      <td>2002-04-01</td>\n",
       "      <td>2.50</td>\n",
       "      <td>3.13</td>\n",
       "      <td>0.78</td>\n",
       "      <td>1.004016</td>\n",
       "      <td>-67.922809</td>\n",
       "      <td>2002</td>\n",
       "    </tr>\n",
       "    <tr>\n",
       "      <th>3</th>\n",
       "      <td>Argentina</td>\n",
       "      <td>2003-04-01</td>\n",
       "      <td>4.10</td>\n",
       "      <td>2.88</td>\n",
       "      <td>1.40</td>\n",
       "      <td>1.512915</td>\n",
       "      <td>-47.468225</td>\n",
       "      <td>2003</td>\n",
       "    </tr>\n",
       "    <tr>\n",
       "      <th>4</th>\n",
       "      <td>Argentina</td>\n",
       "      <td>2004-05-01</td>\n",
       "      <td>4.36</td>\n",
       "      <td>2.95</td>\n",
       "      <td>1.48</td>\n",
       "      <td>1.503448</td>\n",
       "      <td>-49.035652</td>\n",
       "      <td>2004</td>\n",
       "    </tr>\n",
       "  </tbody>\n",
       "</table>\n",
       "</div>"
      ],
      "text/plain": [
       "     Country       Date  Local price  Dollar ex  Dollar price  Dollar PPP  \\\n",
       "0  Argentina 2000-04-01         2.50       1.00          2.50    0.996016   \n",
       "1  Argentina 2001-04-01         2.50       1.00          2.50    0.984252   \n",
       "2  Argentina 2002-04-01         2.50       3.13          0.78    1.004016   \n",
       "3  Argentina 2003-04-01         4.10       2.88          1.40    1.512915   \n",
       "4  Argentina 2004-05-01         4.36       2.95          1.48    1.503448   \n",
       "\n",
       "   Dollar valuation  Year  \n",
       "0         -0.398406  2000  \n",
       "1         -1.574803  2001  \n",
       "2        -67.922809  2002  \n",
       "3        -47.468225  2003  \n",
       "4        -49.035652  2004  "
      ]
     },
     "execution_count": 4,
     "metadata": {},
     "output_type": "execute_result"
    }
   ],
   "source": [
    "BMI_raw['Date'] = pd.to_datetime(BMI_raw['Date'], dayfirst=True)\n",
    "BMI_raw['Year']= BMI_raw['Date'].dt.year\n",
    "BMI_raw.head()"
   ]
  },
  {
   "cell_type": "code",
   "execution_count": 5,
   "metadata": {},
   "outputs": [
    {
     "data": {
      "text/html": [
       "<div>\n",
       "<style>\n",
       "    .dataframe thead tr:only-child th {\n",
       "        text-align: right;\n",
       "    }\n",
       "\n",
       "    .dataframe thead th {\n",
       "        text-align: left;\n",
       "    }\n",
       "\n",
       "    .dataframe tbody tr th {\n",
       "        vertical-align: top;\n",
       "    }\n",
       "</style>\n",
       "<table border=\"1\" class=\"dataframe\">\n",
       "  <thead>\n",
       "    <tr style=\"text-align: right;\">\n",
       "      <th></th>\n",
       "      <th>Country</th>\n",
       "      <th>Date</th>\n",
       "      <th>Local price</th>\n",
       "      <th>Dollar ex</th>\n",
       "      <th>Dollar price</th>\n",
       "      <th>Dollar PPP</th>\n",
       "      <th>Dollar valuation</th>\n",
       "      <th>Year</th>\n",
       "      <th>CPI (2010)</th>\n",
       "    </tr>\n",
       "  </thead>\n",
       "  <tbody>\n",
       "    <tr>\n",
       "      <th>36</th>\n",
       "      <td>Australia</td>\n",
       "      <td>2010-01-01</td>\n",
       "      <td>4.35</td>\n",
       "      <td>1.093550</td>\n",
       "      <td>3.977870</td>\n",
       "      <td>1.215084</td>\n",
       "      <td>11.113694</td>\n",
       "      <td>2010</td>\n",
       "      <td>100.00000</td>\n",
       "    </tr>\n",
       "    <tr>\n",
       "      <th>37</th>\n",
       "      <td>Australia</td>\n",
       "      <td>2010-07-01</td>\n",
       "      <td>4.35</td>\n",
       "      <td>1.133723</td>\n",
       "      <td>3.836918</td>\n",
       "      <td>1.165179</td>\n",
       "      <td>2.774576</td>\n",
       "      <td>2010</td>\n",
       "      <td>100.00000</td>\n",
       "    </tr>\n",
       "    <tr>\n",
       "      <th>38</th>\n",
       "      <td>Australia</td>\n",
       "      <td>2011-07-01</td>\n",
       "      <td>4.56</td>\n",
       "      <td>0.922382</td>\n",
       "      <td>4.943724</td>\n",
       "      <td>1.121771</td>\n",
       "      <td>21.616827</td>\n",
       "      <td>2011</td>\n",
       "      <td>103.30385</td>\n",
       "    </tr>\n",
       "    <tr>\n",
       "      <th>39</th>\n",
       "      <td>Australia</td>\n",
       "      <td>2012-01-01</td>\n",
       "      <td>4.80</td>\n",
       "      <td>0.972337</td>\n",
       "      <td>4.936560</td>\n",
       "      <td>1.143614</td>\n",
       "      <td>17.614993</td>\n",
       "      <td>2012</td>\n",
       "      <td>105.12487</td>\n",
       "    </tr>\n",
       "    <tr>\n",
       "      <th>40</th>\n",
       "      <td>Australia</td>\n",
       "      <td>2012-07-01</td>\n",
       "      <td>4.56</td>\n",
       "      <td>0.974326</td>\n",
       "      <td>4.680156</td>\n",
       "      <td>1.053726</td>\n",
       "      <td>8.149185</td>\n",
       "      <td>2012</td>\n",
       "      <td>105.12487</td>\n",
       "    </tr>\n",
       "  </tbody>\n",
       "</table>\n",
       "</div>"
      ],
      "text/plain": [
       "      Country       Date  Local price  Dollar ex  Dollar price  Dollar PPP  \\\n",
       "36  Australia 2010-01-01         4.35   1.093550      3.977870    1.215084   \n",
       "37  Australia 2010-07-01         4.35   1.133723      3.836918    1.165179   \n",
       "38  Australia 2011-07-01         4.56   0.922382      4.943724    1.121771   \n",
       "39  Australia 2012-01-01         4.80   0.972337      4.936560    1.143614   \n",
       "40  Australia 2012-07-01         4.56   0.974326      4.680156    1.053726   \n",
       "\n",
       "    Dollar valuation  Year  CPI (2010)  \n",
       "36         11.113694  2010   100.00000  \n",
       "37          2.774576  2010   100.00000  \n",
       "38         21.616827  2011   103.30385  \n",
       "39         17.614993  2012   105.12487  \n",
       "40          8.149185  2012   105.12487  "
      ]
     },
     "execution_count": 5,
     "metadata": {},
     "output_type": "execute_result"
    }
   ],
   "source": [
    "BMI = pd.merge(BMI_raw,CPI, how=\"left\", left_on=[\"Country\",\"Year\"], right_on=[\"Country\",\"Year\"])\n",
    "bmi_df = BMI.dropna()\n",
    "bmi_df.head()"
   ]
  },
  {
   "cell_type": "code",
   "execution_count": 6,
   "metadata": {},
   "outputs": [
    {
     "data": {
      "text/plain": [
       "(534, 9)"
      ]
     },
     "execution_count": 6,
     "metadata": {},
     "output_type": "execute_result"
    }
   ],
   "source": [
    "bmi_df.shape"
   ]
  },
  {
   "cell_type": "code",
   "execution_count": 7,
   "metadata": {},
   "outputs": [
    {
     "data": {
      "image/png": "[encoded data removed]",
      "text/plain": [
       "<matplotlib.figure.Figure at 0x16a0cc206d8>"
      ]
     },
     "metadata": {},
     "output_type": "display_data"
    }
   ],
   "source": [
    "plt.figure(figsize=(10,6))\n",
    "sns.distplot(bmi_df[\"Dollar price\"])\n",
    "plt.show()"
   ]
  },
  {
   "cell_type": "code",
   "execution_count": 10,
   "metadata": {},
   "outputs": [
    {
     "data": {
      "text/plain": [
       "<matplotlib.axes._subplots.AxesSubplot at 0x16a0cdaef28>"
      ]
     },
     "execution_count": 10,
     "metadata": {},
     "output_type": "execute_result"
    },
    {
     "data": {
      "image/png": "[encoded data removed]",
      "text/plain": [
       "<matplotlib.figure.Figure at 0x16a0cddb208>"
      ]
     },
     "metadata": {},
     "output_type": "display_data"
    }
   ],
   "source": [
    "sns.heatmap(bmi_df.corr())"
   ]
  },
  {
   "cell_type": "code",
   "execution_count": 11,
   "metadata": {},
   "outputs": [
    {
     "data": {
      "text/html": [
       "<div>\n",
       "<style>\n",
       "    .dataframe thead tr:only-child th {\n",
       "        text-align: right;\n",
       "    }\n",
       "\n",
       "    .dataframe thead th {\n",
       "        text-align: left;\n",
       "    }\n",
       "\n",
       "    .dataframe tbody tr th {\n",
       "        vertical-align: top;\n",
       "    }\n",
       "</style>\n",
       "<table border=\"1\" class=\"dataframe\">\n",
       "  <thead>\n",
       "    <tr style=\"text-align: right;\">\n",
       "      <th></th>\n",
       "      <th>Local price</th>\n",
       "      <th>Dollar ex</th>\n",
       "      <th>Dollar price</th>\n",
       "      <th>Dollar PPP</th>\n",
       "      <th>Dollar valuation</th>\n",
       "      <th>Year</th>\n",
       "      <th>CPI (2010)</th>\n",
       "    </tr>\n",
       "  </thead>\n",
       "  <tbody>\n",
       "    <tr>\n",
       "      <th>Local price</th>\n",
       "      <td>1.000000</td>\n",
       "      <td>0.994010</td>\n",
       "      <td>-0.157123</td>\n",
       "      <td>0.997423</td>\n",
       "      <td>-0.162863</td>\n",
       "      <td>0.079277</td>\n",
       "      <td>0.278922</td>\n",
       "    </tr>\n",
       "    <tr>\n",
       "      <th>Dollar ex</th>\n",
       "      <td>0.994010</td>\n",
       "      <td>1.000000</td>\n",
       "      <td>-0.170749</td>\n",
       "      <td>0.991492</td>\n",
       "      <td>-0.176702</td>\n",
       "      <td>0.084576</td>\n",
       "      <td>0.281757</td>\n",
       "    </tr>\n",
       "    <tr>\n",
       "      <th>Dollar price</th>\n",
       "      <td>-0.157123</td>\n",
       "      <td>-0.170749</td>\n",
       "      <td>1.000000</td>\n",
       "      <td>-0.159330</td>\n",
       "      <td>0.959465</td>\n",
       "      <td>-0.003989</td>\n",
       "      <td>-0.275665</td>\n",
       "    </tr>\n",
       "    <tr>\n",
       "      <th>Dollar PPP</th>\n",
       "      <td>0.997423</td>\n",
       "      <td>0.991492</td>\n",
       "      <td>-0.159330</td>\n",
       "      <td>1.000000</td>\n",
       "      <td>-0.161361</td>\n",
       "      <td>0.063187</td>\n",
       "      <td>0.265536</td>\n",
       "    </tr>\n",
       "    <tr>\n",
       "      <th>Dollar valuation</th>\n",
       "      <td>-0.162863</td>\n",
       "      <td>-0.176702</td>\n",
       "      <td>0.959465</td>\n",
       "      <td>-0.161361</td>\n",
       "      <td>1.000000</td>\n",
       "      <td>-0.256256</td>\n",
       "      <td>-0.372239</td>\n",
       "    </tr>\n",
       "    <tr>\n",
       "      <th>Year</th>\n",
       "      <td>0.079277</td>\n",
       "      <td>0.084576</td>\n",
       "      <td>-0.003989</td>\n",
       "      <td>0.063187</td>\n",
       "      <td>-0.256256</td>\n",
       "      <td>1.000000</td>\n",
       "      <td>0.491563</td>\n",
       "    </tr>\n",
       "    <tr>\n",
       "      <th>CPI (2010)</th>\n",
       "      <td>0.278922</td>\n",
       "      <td>0.281757</td>\n",
       "      <td>-0.275665</td>\n",
       "      <td>0.265536</td>\n",
       "      <td>-0.372239</td>\n",
       "      <td>0.491563</td>\n",
       "      <td>1.000000</td>\n",
       "    </tr>\n",
       "  </tbody>\n",
       "</table>\n",
       "</div>"
      ],
      "text/plain": [
       "                  Local price  Dollar ex  Dollar price  Dollar PPP  \\\n",
       "Local price          1.000000   0.994010     -0.157123    0.997423   \n",
       "Dollar ex            0.994010   1.000000     -0.170749    0.991492   \n",
       "Dollar price        -0.157123  -0.170749      1.000000   -0.159330   \n",
       "Dollar PPP           0.997423   0.991492     -0.159330    1.000000   \n",
       "Dollar valuation    -0.162863  -0.176702      0.959465   -0.161361   \n",
       "Year                 0.079277   0.084576     -0.003989    0.063187   \n",
       "CPI (2010)           0.278922   0.281757     -0.275665    0.265536   \n",
       "\n",
       "                  Dollar valuation      Year  CPI (2010)  \n",
       "Local price              -0.162863  0.079277    0.278922  \n",
       "Dollar ex                -0.176702  0.084576    0.281757  \n",
       "Dollar price              0.959465 -0.003989   -0.275665  \n",
       "Dollar PPP               -0.161361  0.063187    0.265536  \n",
       "Dollar valuation          1.000000 -0.256256   -0.372239  \n",
       "Year                     -0.256256  1.000000    0.491563  \n",
       "CPI (2010)               -0.372239  0.491563    1.000000  "
      ]
     },
     "execution_count": 11,
     "metadata": {},
     "output_type": "execute_result"
    }
   ],
   "source": [
    "bmi_df.corr()"
   ]
  },
  {
   "cell_type": "code",
   "execution_count": null,
   "metadata": {
    "collapsed": true
   },
   "outputs": [],
   "source": []
  }
 ],
 "metadata": {
  "kernelspec": {
   "display_name": "Python [default]",
   "language": "python",
   "name": "python3"
  },
  "language_info": {
   "codemirror_mode": {
    "name": "ipython",
    "version": 3
   },
   "file_extension": ".py",
   "mimetype": "text/x-python",
   "name": "python",
   "nbconvert_exporter": "python",
   "pygments_lexer": "ipython3",
   "version": "3.6.1"
  }
 },
 "nbformat": 4,
 "nbformat_minor": 2
}
